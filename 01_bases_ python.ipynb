{
 "cells": [
  {
   "cell_type": "markdown",
   "metadata": {},
   "source": [
    "# Caracteres de escape y nueva linea en python "
   ]
  },
  {
   "cell_type": "code",
   "execution_count": 1,
   "metadata": {
    "metadata": {}
   },
   "outputs": [
    {
     "name": "stdout",
     "output_type": "stream",
     "text": [
      "La witsi witsi Araña\n",
      "subio a su telaraña\n"
     ]
    }
   ],
   "source": [
    "print(\"La witsi witsi Araña\\nsubio a su telaraña\")"
   ]
  },
  {
   "cell_type": "code",
   "execution_count": 2,
   "metadata": {
    "metadata": {}
   },
   "outputs": [
    {
     "name": "stdout",
     "output_type": "stream",
     "text": [
      "La witsi witsi Araña\n",
      "la arañota\n"
     ]
    }
   ],
   "source": [
    "print(\"La witsi witsi Araña\\nsubio a su telaraña\")"
   ]
  },
  {
   "cell_type": "code",
   "execution_count": 3,
   "metadata": {
    "metadata": {}
   },
   "outputs": [
    {
     "name": "stdout",
     "output_type": "stream",
     "text": [
      "La witsi witsi Araña\\subio a su telaraña\n"
     ]
    },
    {
     "name": "stderr",
     "output_type": "stream",
     "text": [
      "<>:1: SyntaxWarning: invalid escape sequence '\\s'\n",
      "<>:1: SyntaxWarning: invalid escape sequence '\\s'\n",
      "C:\\Users\\edenq\\AppData\\Local\\Temp\\ipykernel_37596\\1816698950.py:1: SyntaxWarning: invalid escape sequence '\\s'\n",
      "  print(\"La witsi witsi Araña\\subio a su telaraña\")\n"
     ]
    }
   ],
   "source": [
    "print(\"La witsi witsi Araña\\subio a su telaraña\")"
   ]
  },
  {
   "cell_type": "code",
   "execution_count": 4,
   "metadata": {
    "metadata": {}
   },
   "outputs": [
    {
     "name": "stdout",
     "output_type": "stream",
     "text": [
      "La witsi witsi Araña\\s subio a su telaraña\n"
     ]
    },
    {
     "name": "stderr",
     "output_type": "stream",
     "text": [
      "<>:1: SyntaxWarning: invalid escape sequence '\\s'\n",
      "<>:1: SyntaxWarning: invalid escape sequence '\\s'\n",
      "C:\\Users\\edenq\\AppData\\Local\\Temp\\ipykernel_37596\\164140615.py:1: SyntaxWarning: invalid escape sequence '\\s'\n",
      "  print(\"La witsi witsi Araña\\s subio a su telaraña\")\n"
     ]
    }
   ],
   "source": [
    "print(\"La witsi witsi Araña\\s subio a su telaraña\")"
   ]
  },
  {
   "cell_type": "code",
   "execution_count": 5,
   "metadata": {
    "metadata": {}
   },
   "outputs": [
    {
     "name": "stdout",
     "output_type": "stream",
     "text": [
      "La witsi witsi Araña \\ subio a su telaraña\n"
     ]
    }
   ],
   "source": [
    "print(\"La witsi witsi Araña \\\\ subio a su telaraña\")"
   ]
  },
  {
   "cell_type": "code",
   "execution_count": 6,
   "metadata": {
    "metadata": {}
   },
   "outputs": [
    {
     "name": "stdout",
     "output_type": "stream",
     "text": [
      "El resultado es :10\n"
     ]
    }
   ],
   "source": [
    "x = 10\n",
    "print(\"El resultado es :\"+str (x))"
   ]
  },
  {
   "cell_type": "code",
   "execution_count": 7,
   "metadata": {
    "metadata": {}
   },
   "outputs": [
    {
     "name": "stdout",
     "output_type": "stream",
     "text": [
      "El valor de x es:22\n"
     ]
    }
   ],
   "source": [
    "x = 22\n",
    "print (f'El valor de x es:{x}')"
   ]
  },
  {
   "cell_type": "code",
   "execution_count": 8,
   "metadata": {
    "metadata": {}
   },
   "outputs": [
    {
     "name": "stdout",
     "output_type": "stream",
     "text": [
      "El valor de x+y:57.900000000000006\n"
     ]
    }
   ],
   "source": [
    "x =45.6\n",
    "y =12.3\n",
    "print (f'El valor de x+y:{x+y}')"
   ]
  },
  {
   "cell_type": "code",
   "execution_count": 9,
   "metadata": {
    "metadata": {}
   },
   "outputs": [
    {
     "name": "stdout",
     "output_type": "stream",
     "text": [
      "El valor de x+y:57.900000000000006\n"
     ]
    }
   ],
   "source": [
    "x =45.6\n",
    "y =12.3\n",
    "print (f\"El valor de x+y:\"+str(x+y))"
   ]
  },
  {
   "cell_type": "code",
   "execution_count": null,
   "metadata": {},
   "outputs": [],
   "source": [
    "x =45.6\n",
    "y =12.3\n",
    "print (f\"El valor de x+y:\"+str(x+y))"
   ]
  },
  {
   "cell_type": "code",
   "execution_count": 10,
   "metadata": {
    "metadata": {}
   },
   "outputs": [
    {
     "name": "stdout",
     "output_type": "stream",
     "text": [
      "La suma de45.6+12.3 =57.900000000000006\n",
      "57.9\n"
     ]
    }
   ],
   "source": [
    "x =45.6\n",
    "y =12.3\n",
    "print (f\"La suma de\"+str(x)+'+' + str(y) +' =' + str(x+y))\n",
    "print(str(round(x+y,2)))"
   ]
  },
  {
   "cell_type": "code",
   "execution_count": 13,
   "metadata": {
    "metadata": {}
   },
   "outputs": [
    {
     "name": "stdout",
     "output_type": "stream",
     "text": [
      "La suma de 45.6 + 12.3 = 57.9\n"
     ]
    }
   ],
   "source": [
    "print(f'La suma de {x} + {y} = {round (x+y,2)}')"
   ]
  },
  {
   "cell_type": "markdown",
   "metadata": {},
   "source": [
    "# Usando multiples argumentos "
   ]
  },
  {
   "cell_type": "code",
   "execution_count": 16,
   "metadata": {
    "metadata": {}
   },
   "outputs": [
    {
     "name": "stdout",
     "output_type": "stream",
     "text": [
      "La arañame mordio el dedo\n",
      "La araña me mordio mis 20 dedos\n",
      "Ya tenemos hambre\n"
     ]
    }
   ],
   "source": [
    "print('La araña' + 'me mordio el dedo')\n",
    "x=20 \n",
    "print('La araña','me mordio', 'mis' , x , 'dedos' )\n",
    "print ('Ya tenemos' ,'hambre')"
   ]
  },
  {
   "cell_type": "markdown",
   "metadata": {},
   "source": [
    "# Argumentos de palabra clave"
   ]
  },
  {
   "cell_type": "markdown",
   "metadata": {},
   "source": [
    "Python ofrece otro mecanismo para el paso de argumentos, que puede ser útil cuando deseas convencer a la función print() para que cambie un poco su comportamiento.\n",
    "\n",
    "No vamos a explicarlo en profundidad ahora. Planeamos hacerlo cuando hablemos de funciones. Por ahora, simplemente queremos mostrarte cómo funciona. Siéntete libre de usarlo en tus propios programas.\n",
    "\n",
    "El mecanismo se llama argumentos de palabras clave. El nombre proviene del hecho de que el significado de estos argumentos se toma no de su ubicación (posición) sino de la palabra especial (palabra clave) utilizada para identificarlos.\n",
    "\n",
    "La función print() tiene dos argumentos de palabra clave que puedes usar para tus propósitos. El primero se llama end."
   ]
  },
  {
   "cell_type": "code",
   "execution_count": 18,
   "metadata": {
    "metadata": {}
   },
   "outputs": [
    {
     "name": "stdout",
     "output_type": "stream",
     "text": [
      "Hola Seño\n",
      "\n",
      "Hola Benito\n"
     ]
    }
   ],
   "source": [
    "print('Hola Seño')\n",
    "print()\n",
    "print('Hola Benito')"
   ]
  },
  {
   "cell_type": "code",
   "execution_count": 20,
   "metadata": {
    "metadata": {}
   },
   "outputs": [
    {
     "name": "stdout",
     "output_type": "stream",
     "text": [
      "Hola como estas Vaca grande\n",
      "Hola yo soy tu pitufo\n"
     ]
    }
   ],
   "source": [
    "print ( 'Hola como estas Vaca grande', end='\\n')\n",
    "print('Hola yo soy tu pitufo')"
   ]
  },
  {
   "cell_type": "code",
   "execution_count": 21,
   "metadata": {
    "metadata": {}
   },
   "outputs": [
    {
     "name": "stdout",
     "output_type": "stream",
     "text": [
      "Hola soy tu miche Con limon y sal\n"
     ]
    }
   ],
   "source": [
    "print('Hola soy tu miche' , end=\" \")\n",
    "print('Con limon y sal')"
   ]
  },
  {
   "cell_type": "markdown",
   "metadata": {},
   "source": [
    "Para usarlo, es necesario conocer algunas reglas:\n",
    "\n",
    "- Un argumento de palabra clave consta de tres elementos: una palabra clave se identifica el argumento (end aquí); un signo de igual (=); y un valor asignado a ese argumento;\n",
    "- cualquier argumento de palabra clave debe colocarse después del último argumento posicional (esto es muy importante)\n",
    "\n",
    "En nuestro ejemplo, hemos utilizado el argumento de palabra clave end, y lo hemos configurado como cadena que contiene un espacio\n",
    "\n",
    "Como puedes ver, el argumento de palabra clave end determina los caracteres que la función print() envía a la salida una vez que llega al final de sus argumentos posicionales.\n",
    "\n",
    "El comportamiento predeterminado refleja la situación en la que el argumento de palabra clave end se usa implícitamente de la siguiente manera: end=\"\\n\".\n"
   ]
  },
  {
   "cell_type": "code",
   "execution_count": 22,
   "metadata": {
    "metadata": {}
   },
   "outputs": [
    {
     "name": "stdout",
     "output_type": "stream",
     "text": [
      "Hola mundo*Estoy aqui\n"
     ]
    }
   ],
   "source": [
    "print('Hola mundo', end=\"*\")\n",
    "print('Estoy aqui')"
   ]
  },
  {
   "cell_type": "code",
   "execution_count": 25,
   "metadata": {
    "metadata": {}
   },
   "outputs": [
    {
     "name": "stdout",
     "output_type": "stream",
     "text": [
      "Hola-como-estas-America-Campion\n"
     ]
    }
   ],
   "source": [
    "#Palabra clave sep \n",
    "print('Hola','como','estas', 'America', 'Campion', sep='-')"
   ]
  },
  {
   "cell_type": "code",
   "execution_count": 28,
   "metadata": {
    "metadata": {}
   },
   "outputs": [
    {
     "name": "stdout",
     "output_type": "stream",
     "text": [
      "Hola-como-estas-America-Campion**Soy la vaca de Corral/Tengo arta hambre\n"
     ]
    }
   ],
   "source": [
    "print('Hola','como','estas', 'America', 'Campion', sep='-',end='**')\n",
    "print('Soy la', 'vaca','de Corral',end='/')\n",
    "print(\"Tengo arta hambre\")"
   ]
  },
  {
   "cell_type": "code",
   "execution_count": 29,
   "metadata": {
    "metadata": {}
   },
   "outputs": [
    {
     "name": "stdout",
     "output_type": "stream",
     "text": [
      "Hola-como-estas-America-Campion**Soy la/vaca/de Corral\n",
      "Tengo arta hambre\n"
     ]
    }
   ],
   "source": [
    "print('Hola','como','estas', 'America', 'Campion', sep='-',end='**')\n",
    "print('Soy la', 'vaca','de Corral',sep='/')\n",
    "print(\"Tengo arta hambre\")"
   ]
  },
  {
   "cell_type": "markdown",
   "metadata": {},
   "source": [
    "# LAB  La funcion print () y sus argumentos "
   ]
  },
  {
   "cell_type": "markdown",
   "metadata": {},
   "source": [
    "## Escenario"
   ]
  },
  {
   "cell_type": "markdown",
   "metadata": {},
   "source": [
    "Modifica la primera línea de código en el editor, usando las palabras claves reservadas sep y end, para que se obtenga la salida esperada. Emplea dos funciones print() en el editor.\n",
    "\n",
    "No cambies nada en la segunda invocación del print().\n"
   ]
  },
  {
   "cell_type": "markdown",
   "metadata": {},
   "source": [
    "``` python\n",
    "print(\"Programming\",\"Essentials\",\"in\")\n",
    "print(\"Python\")\n",
    "```"
   ]
  },
  {
   "cell_type": "markdown",
   "metadata": {},
   "source": [
    "# Salida Esperada"
   ]
  },
  {
   "cell_type": "markdown",
   "metadata": {},
   "source": [
    "Programming***Essenttials***in...Python \n"
   ]
  },
  {
   "cell_type": "code",
   "execution_count": 35,
   "metadata": {
    "metadata": {}
   },
   "outputs": [
    {
     "name": "stdout",
     "output_type": "stream",
     "text": [
      "Programming***Essencialss***in...Python\n"
     ]
    }
   ],
   "source": [
    "print('Programming','Essencialss','in',sep='***', end='...')\n",
    "print('Python')\n"
   ]
  }
 ],
 "metadata": {
  "kernelspec": {
   "display_name": "Python 3",
   "language": "python",
   "name": "python3"
  },
  "language_info": {
   "codemirror_mode": {
    "name": "ipython",
    "version": 3
   },
   "file_extension": ".py",
   "mimetype": "text/x-python",
   "name": "python",
   "nbconvert_exporter": "python",
   "pygments_lexer": "ipython3",
   "version": "3.12.3"
  }
 },
 "nbformat": 4,
 "nbformat_minor": 2
}
