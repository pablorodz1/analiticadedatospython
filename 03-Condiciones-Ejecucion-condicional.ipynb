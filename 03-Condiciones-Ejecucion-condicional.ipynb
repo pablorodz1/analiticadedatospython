{
 "cells": [
  {
   "cell_type": "markdown",
   "metadata": {},
   "source": [
    "# Condiciones y ejecicion condicional"
   ]
  },
  {
   "cell_type": "markdown",
   "metadata": {},
   "source": [
    "## Ejemplo 1 "
   ]
  },
  {
   "cell_type": "code",
   "execution_count": 3,
   "metadata": {},
   "outputs": [
    {
     "data": {
      "text/plain": [
       "4.0"
      ]
     },
     "execution_count": 3,
     "metadata": {},
     "output_type": "execute_result"
    }
   ],
   "source": [
    "#Se leen dos numeros  con decimal para eso sirve el float\n",
    "numero1 =  float (input (\"Ingresa el primer numero:\"))\n",
    "numero1 "
   ]
  },
  {
   "cell_type": "code",
   "execution_count": 2,
   "metadata": {},
   "outputs": [
    {
     "data": {
      "text/plain": [
       "5"
      ]
     },
     "execution_count": 2,
     "metadata": {},
     "output_type": "execute_result"
    }
   ],
   "source": [
    "#Se leen dos numeros y con el int es para de ñlugar de un texto sea numero \n",
    "numero1 =  int (input (\"Ingresa el primer numero:\"))\n",
    "numero1 \n"
   ]
  },
  {
   "cell_type": "code",
   "execution_count": 10,
   "metadata": {},
   "outputs": [
    {
     "name": "stdout",
     "output_type": "stream",
     "text": [
      "10\n",
      "El numero mayor es 10\n"
     ]
    }
   ],
   "source": [
    "#Se leen dos numeros \n",
    "numero1 =  int (input (\"Ingresa el primer numero:\"))\n",
    "numero2 = int (input(\"Ingresar un segundo numero:\")) \n",
    "\n",
    "#Elija el numero mas grande  \n",
    "if numero1 > numero2:\n",
    "    numero_mayor = numero1\n",
    "else:\n",
    "    numero_mayor = numero2\n",
    "    print(numero_mayor )\n",
    "    print(f'El numero mayor es {numero_mayor}')"
   ]
  },
  {
   "cell_type": "code",
   "execution_count": 11,
   "metadata": {},
   "outputs": [
    {
     "name": "stdout",
     "output_type": "stream",
     "text": [
      "El numero mayor es 10\n"
     ]
    }
   ],
   "source": [
    "#Se leen dos numeros \n",
    "numero1 =  int (input (\"Ingresa el primer numero:\"))\n",
    "numero2 = int (input(\"Ingresar un segundo numero:\")) \n",
    "\n",
    "#Elija el numero mas grande  \n",
    "if numero1 > numero2:\n",
    "   print(f'El numero mayor es {numero_mayor}')\n",
    "else:\n",
    "   \n",
    "    print(f'El numero mayor es {numero_mayor}')"
   ]
  },
  {
   "cell_type": "code",
   "execution_count": 13,
   "metadata": {},
   "outputs": [
    {
     "name": "stdout",
     "output_type": "stream",
     "text": [
      "El numero mayor es 10\n"
     ]
    }
   ],
   "source": [
    "#Se leen dos numeros \n",
    "numero1 =  int (input (\"Ingresa el primer numero:\"))\n",
    "numero2 = int (input(\"Ingresar un segundo numero:\")) \n",
    "\n",
    "#Elija el numero mas grande  \n",
    "if numero1 > numero2:\n",
    "   numero_mayor = numero1\n",
    "   print(f'El numero mayor es {numero_mayor}')\n",
    "else:\n",
    "   numero_mayor = numero2\n",
    "   print(f'El numero mayor es {numero_mayor}')"
   ]
  },
  {
   "cell_type": "markdown",
   "metadata": {},
   "source": [
    "## Ejemplo2 \n",
    "Encontrar el numero mas grande de tres numeros "
   ]
  },
  {
   "cell_type": "code",
   "execution_count": 16,
   "metadata": {},
   "outputs": [
    {
     "name": "stdout",
     "output_type": "stream",
     "text": [
      "El numero mayor es 17\n"
     ]
    }
   ],
   "source": [
    "#Solicitar tres numero enteros \n",
    "n1 = int(input('Escribe el primer numero:'))\n",
    "n2 = int(input('Escribe el segundo numero:'))\n",
    "n3 = int(input('Escribe el tercer numero:'))\n",
    "\n",
    "numero_mayor = n1\n",
    "if n2 > numero_mayor:\n",
    "    numero_mayor = n2\n",
    "elif n3 > numero_mayor:\n",
    "    numero_mayor = n3\n",
    "print(f'El numero mayor es {numero_mayor}')\n"
   ]
  },
  {
   "cell_type": "code",
   "execution_count": 17,
   "metadata": {},
   "outputs": [],
   "source": [
    "#Solicitar tres numero enteros \n",
    "n1 = int(input('Escribe el primer numero:'))\n",
    "n2 = int(input('Escribe el segundo numero:'))\n",
    "n3 = int(input('Escribe el tercer numero:'))\n",
    "if n1>n2 and n1>n3:\n",
    "    numero_mayor = n1\n",
    "elif n2 > n1  and n2>n3:\n",
    "    numero_mayor = n2\n",
    "else: \n",
    "    numero_mayor = n3\n",
    "\n",
    "    print(f'El numero mayor es;{numero_mayor}')\n"
   ]
  },
  {
   "cell_type": "code",
   "execution_count": 19,
   "metadata": {},
   "outputs": [
    {
     "name": "stdout",
     "output_type": "stream",
     "text": [
      "El numero mayor es 87\n"
     ]
    }
   ],
   "source": [
    "#Solicitar tres numero enteros \n",
    "n1 = int(input('Escribe el primer numero:'))\n",
    "n2 = int(input('Escribe el segundo numero:'))\n",
    "n3 = int(input('Escribe el tercer numero:'))\n",
    "\n",
    "numero_mayor = n1 \n",
    "if n2 > numero_mayor:\n",
    "    numero_mayor = n2\n",
    "if n3 > numero_mayor:\n",
    "        numero_mayor = n3\n",
    "print(f'El numero mayor es {numero_mayor}')\n"
   ]
  },
  {
   "cell_type": "code",
   "execution_count": 20,
   "metadata": {},
   "outputs": [
    {
     "name": "stdout",
     "output_type": "stream",
     "text": [
      "Palabras en mayusculas es Espatifilo\n"
     ]
    }
   ],
   "source": [
    "#mayusculas, minusculas \n",
    "entrada  = input('¡Introduce la palabra:')\n",
    "if entrada == 'ESPATIFILO':\n",
    "    mensaje = '¡El espatifilo es la mejor planta'\n",
    "elif entrada == 'espatifilo': \n",
    "    mensaje ='No,!quiero gran espatifilo!' \n",
    "else:\n",
    "    mensaje= f'No,{entrada}'\n",
    "    print (mensaje)\n",
    "\n"
   ]
  }
 ],
 "metadata": {
  "kernelspec": {
   "display_name": "Python 3",
   "language": "python",
   "name": "python3"
  },
  "language_info": {
   "codemirror_mode": {
    "name": "ipython",
    "version": 3
   },
   "file_extension": ".py",
   "mimetype": "text/x-python",
   "name": "python",
   "nbconvert_exporter": "python",
   "pygments_lexer": "ipython3",
   "version": "3.12.3"
  }
 },
 "nbformat": 4,
 "nbformat_minor": 2
}
