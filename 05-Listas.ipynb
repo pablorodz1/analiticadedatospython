{
 "cells": [
  {
   "cell_type": "markdown",
   "metadata": {},
   "source": [
    "# Listas \n",
    "Los elementos dentro de una lista pueden tener diferentes tipos. Algunos de ellos pueden ser enteros, otros son flotantes y otros pueden ser listas.\n",
    "\n",
    "```python\n",
    "    numbers = [10, 5, 7, 2, 1]\n",
    "```\n",
    "Python ha adoptado una convención que indica que los elementos de una lista están siempre numerados desde cero. Esto significa que el elemento almacenado al principio de la lista tendrá el número cero. Como hay cinco elementos en nuestra lista, al último de ellos se le asigna el número cuatro. No olvides esto.\n",
    "\n",
    "Nuestra lista es una colección de elementos, pero cada elemento es un escalar."
   ]
  },
  {
   "cell_type": "code",
   "execution_count": 2,
   "metadata": {},
   "outputs": [
    {
     "name": "stdout",
     "output_type": "stream",
     "text": [
      "Mi primr lista en Python es [10, True, 14.25, 'Hola', 12]\n",
      "El valor de la posicion 0 es :10\n",
      "El valor de la posicion4 es:12 \n",
      "El valor de la posicion4 es:12 \n",
      "El valor de la posicion 2 es:True\n",
      "El valor de la posicion 2 es:True\n"
     ]
    }
   ],
   "source": [
    "x = [10,True,14.25,'Hola',3*4]\n",
    "print(f\"Mi primr lista en Python es {x}\")\n",
    "print(f\"El valor de la posicion 0 es :{x[0]}\")\n",
    "print(f'El valor de la posicion4 es:{x[4]} ')\n",
    "print(f'El valor de la posicion4 es:{x[-1]} ')\n",
    "print(f'El valor de la posicion 2 es:{x[1]}')\n",
    "print(f'El valor de la posicion 2 es:{x[-4]}')"
   ]
  },
  {
   "cell_type": "markdown",
   "metadata": {},
   "source": [
    "# Indexación de listas \n",
    "Vamos asignar un valor de 111 al primer elemento en la lista.Lo hacemos de esta manera:"
   ]
  },
  {
   "cell_type": "code",
   "execution_count": 3,
   "metadata": {},
   "outputs": [
    {
     "name": "stdout",
     "output_type": "stream",
     "text": [
      "Contenido de la lista :[10, 5, 7, 2, 1]\n",
      "Contenido de la lista modificada :[111, 5, 7, 2, 1]\n"
     ]
    }
   ],
   "source": [
    "numbers =[10,5,7,2,1]\n",
    "#Imprimir el contanido de la lista original \n",
    "print (f'Contenido de la lista :{numbers}')\n",
    "#Vamos agregar un valor a la lista \n",
    "numbers[0] = 111\n",
    "print (f'Contenido de la lista modificada :{numbers}')"
   ]
  },
  {
   "cell_type": "markdown",
   "metadata": {},
   "source": [
    "Y ahor aqueremos copiar el quinto elemento al segundo elemento"
   ]
  },
  {
   "cell_type": "code",
   "execution_count": 4,
   "metadata": {},
   "outputs": [
    {
     "name": "stdout",
     "output_type": "stream",
     "text": [
      "La lista original es :[10, 5, 7, 2, 1]\n",
      "Contenido de la lista nueva:[111, 5, 7, 2, 1]\n",
      "La lista modificada es:[111, 1, 7, 2, 1]\n"
     ]
    }
   ],
   "source": [
    "numbers =[10,5,7,2,1]\n",
    "print(f'La lista original es :{numbers}')\n",
    "numbers[0] = 111\n",
    "print(f'Contenido de la lista nueva:{numbers}')\n",
    "#Copia del valor del quinto elemento al segundo elemento\n",
    "numbers[1] = numbers [4]\n",
    "#imprime el contenido de la ultima modificacion de la lista \n",
    "\n",
    "print(f'La lista modificada es:{numbers }')"
   ]
  },
  {
   "cell_type": "markdown",
   "metadata": {},
   "source": [
    "El valor dentro de los corchetes que selecciona un elemento de la lista se llama un índice, mientras que la operación de seleccionar un elemento de la lista se conoce como indexación.\n",
    "\n",
    "Vamos a utilizar la función print() para imprimir el contenido de la lista cada vez que realicemos los cambios. Esto nos ayudará a seguir cada paso con más cuidado y ver que sucede después de una modificación de la lista en particular.\n",
    "\n",
    "Nota: todos los índices utilizados hasta ahora son literales. Sus valores se fijan en el tiempo de ejecución, pero cualquier expresión también puede ser un índice. Esto abre muchas posibilidades."
   ]
  },
  {
   "cell_type": "markdown",
   "metadata": {},
   "source": [
    "# Acceso al contenido de las listas \n",
    "Se puede acceder a cada uno de los elementos de la lista por separado. Por ejemplo, se puede imprimir:"
   ]
  },
  {
   "cell_type": "code",
   "execution_count": 5,
   "metadata": {},
   "outputs": [
    {
     "data": {
      "text/plain": [
       "[111, 1, 7, 2, 1]"
      ]
     },
     "execution_count": 5,
     "metadata": {},
     "output_type": "execute_result"
    }
   ],
   "source": [
    "numbers "
   ]
  },
  {
   "cell_type": "code",
   "execution_count": 6,
   "metadata": {},
   "outputs": [
    {
     "name": "stdout",
     "output_type": "stream",
     "text": [
      "111\n"
     ]
    }
   ],
   "source": [
    "print(numbers[0])"
   ]
  },
  {
   "cell_type": "code",
   "execution_count": 7,
   "metadata": {},
   "outputs": [
    {
     "name": "stdout",
     "output_type": "stream",
     "text": [
      "Contenido de listas original: [10, 5, 7, 2, 1]\n",
      "[111, 5, 7, 2, 1]\n",
      "[111, 5, 7, 2, 111]\n"
     ]
    }
   ],
   "source": [
    "numbers =[10,5,7,2,1]\n",
    "print(\"Contenido de listas original:\",numbers)#Imprimiendo \n",
    "numbers[0] = 111\n",
    "print (numbers)\n",
    "numbers[4 ]= numbers [0]\n",
    "print(numbers)"
   ]
  },
  {
   "cell_type": "markdown",
   "metadata": {},
   "source": [
    "## Eliminando elementos de una lista\n",
    "\n",
    "Cualquier elemento de la lista puede ser eliminado en cualquier momento - esto se hace con una instrucción llamada del (eliminar). Nota: es una instrucción, no una función.\n",
    "\n",
    "Tienes que apuntar al elemento que quieres eliminar - desaparecerá de la lista y la longitud de la lista se reducirá en uno.\n",
    "\n",
    "Mira el fragmento de abajo. ¿Puedes adivinar qué output producirá? Ejecuta el programa en el editor y comprueba."
   ]
  },
  {
   "cell_type": "code",
   "execution_count": 8,
   "metadata": {},
   "outputs": [
    {
     "data": {
      "text/plain": [
       "[111, 5, 7, 2, 111]"
      ]
     },
     "execution_count": 8,
     "metadata": {},
     "output_type": "execute_result"
    }
   ],
   "source": [
    "numbers"
   ]
  },
  {
   "cell_type": "code",
   "execution_count": 9,
   "metadata": {},
   "outputs": [
    {
     "data": {
      "text/plain": [
       "[3, 5, 7, 2, 111]"
      ]
     },
     "execution_count": 9,
     "metadata": {},
     "output_type": "execute_result"
    }
   ],
   "source": [
    "numbers[0] = 3 \n",
    "numbers"
   ]
  },
  {
   "cell_type": "code",
   "execution_count": 10,
   "metadata": {},
   "outputs": [
    {
     "data": {
      "text/plain": [
       "[3, 5, 7, 2]"
      ]
     },
     "execution_count": 10,
     "metadata": {},
     "output_type": "execute_result"
    }
   ],
   "source": [
    "del numbers [4]\n",
    "numbers "
   ]
  },
  {
   "cell_type": "markdown",
   "metadata": {},
   "source": [
    "## Los índices negativos son legales\n",
    "\n",
    "Puede parecer extraño, pero los índices negativos son válidos, y pueden ser muy útiles.\n",
    "\n",
    "Un elemento con un índice igual a -1 es el último en la lista."
   ]
  },
  {
   "cell_type": "code",
   "execution_count": 13,
   "metadata": {},
   "outputs": [
    {
     "data": {
      "text/plain": [
       "[3, 5, 7, 2, 111]"
      ]
     },
     "execution_count": 13,
     "metadata": {},
     "output_type": "execute_result"
    }
   ],
   "source": [
    "numbers =[3,5,7,2,111]\n",
    "numbers"
   ]
  },
  {
   "cell_type": "code",
   "execution_count": 14,
   "metadata": {},
   "outputs": [
    {
     "name": "stdout",
     "output_type": "stream",
     "text": [
      "111\n",
      "2\n",
      "7\n",
      "5\n",
      "3\n"
     ]
    }
   ],
   "source": [
    "print(numbers[-1])\n",
    "print(numbers[-2])\n",
    "print(numbers[-3])\n",
    "print(numbers[-4])\n",
    "print(numbers[-5])"
   ]
  },
  {
   "cell_type": "code",
   "execution_count": 15,
   "metadata": {},
   "outputs": [
    {
     "data": {
      "text/plain": [
       "[3, 5, 7, 2, 111]"
      ]
     },
     "execution_count": 15,
     "metadata": {},
     "output_type": "execute_result"
    }
   ],
   "source": [
    "numbers"
   ]
  },
  {
   "cell_type": "code",
   "execution_count": 16,
   "metadata": {},
   "outputs": [],
   "source": [
    "del numbers [-2]"
   ]
  },
  {
   "cell_type": "markdown",
   "metadata": {},
   "source": [
    "# LAB Los fundamentos de las listas\n",
    "\n",
    "Escenario\n",
    "Había una vez un sombrero. El sombrero no contenía conejo, sino una lista de cinco números: 1, 2, 3, 4, y 5.\n",
    "\n",
    "Tu tarea es:\n",
    "\n",
    "1. escribir una línea de código que solicite al usuario que reemplace el número central en la lista con un número entero ingresado por el usuario (Paso 1)\n",
    "2. escribir una línea de código que elimine el último elemento de la lista (Paso 2)\n",
    "1. escribir una línea de código que imprima la longitud de la lista existente (Paso 3).\n",
    "1. ¿Listo para este desafío?"
   ]
  },
  {
   "cell_type": "code",
   "execution_count": 18,
   "metadata": {},
   "outputs": [
    {
     "name": "stdout",
     "output_type": "stream",
     "text": [
      "[1, 2, 3, 4, 5]\n"
     ]
    }
   ],
   "source": [
    "hat_list = [1, 2, 3, 4, 5] # Esta es una lista existente de números ocultos en el sombrero.\n",
    "\n",
    "# Paso 1: escribe una línea de código que solicite al usuario\n",
    "# reemplazar el número de en medio con un número entero ingresado por el usuario.\n",
    "\n",
    "# Paso 2: escribe aquí una línea de código que elimine el último elemento de la lista.\n",
    "\n",
    "# Paso 3: escribe aquí una línea de código que imprima la longitud de la lista existente.\n",
    "\n",
    "print(hat_list)"
   ]
  },
  {
   "cell_type": "code",
   "execution_count": 19,
   "metadata": {},
   "outputs": [
    {
     "name": "stdout",
     "output_type": "stream",
     "text": [
      "La longitud de la lista es: 4\n",
      "[1, 2, 8, 4]\n"
     ]
    }
   ],
   "source": [
    "lista = [1, 2, 3, 4, 5]  # Esta es una lista existente de números ocultos en el sombrero.\n",
    "\n",
    "# Paso 1: solicita al usuario reemplazar el número de en medio con un número entero ingresado por el usuario.\n",
    "lista[len(lista ) // 2] = int(input(\"Ingresa un número entero para reemplazar el número en medio: \"))\n",
    "\n",
    "# Paso 2: elimina el último elemento de la lista.\n",
    "lista.pop()\n",
    "\n",
    "# Paso 3: imprime la longitud de la lista existente.\n",
    "print(\"La longitud de la lista es:\", len(lista ))\n",
    "\n",
    "print(lista)"
   ]
  },
  {
   "cell_type": "code",
   "execution_count": 20,
   "metadata": {},
   "outputs": [
    {
     "name": "stdout",
     "output_type": "stream",
     "text": [
      "La longitud de la lista es4\n",
      "[1, 2, 12, 4]\n"
     ]
    }
   ],
   "source": [
    "hat_list = [1, 2, 3, 4, 5]  # Esta es una lista existente de números ocultos en el sombrero.\n",
    "\n",
    "# Paso 1: solicita al usuario reemplazar el númer23o de en medio con un número entero ingresado por el usuario.\n",
    "numero  = int(input(\"Ingresa un número entero para reemplazar el número en medio: \"))\n",
    "\n",
    "# Paso 2: elimina el último elemento de la lista.\n",
    "hat_list[2]= numero \n",
    "del hat_list[-1]\n",
    "# Paso 3: imprime la longitud de la lista existente.\n",
    "print(f'La longitud de la lista es{len(hat_list)}')\n",
    "\n",
    "print(hat_list)"
   ]
  },
  {
   "cell_type": "markdown",
   "metadata": {},
   "source": [
    "# Funciones vs metodos\n",
    "Un método es un tipo específico de función - se comporta como una función y se parece a una función, pero difiere en la forma en que actúa y en su estilo de invocación.\n",
    "\n",
    "Una función no pertenece a ningún dato - obtiene datos, puede crear nuevos datos y (generalmente) produce un resultado.\n",
    "\n",
    "Un método hace todas estas cosas, pero también puede cambiar el estado de una entidad seleccionada.\n",
    "\n",
    "Un método es propiedad de los datos para los que trabaja, mientras que una función es propiedad de todo el código.\n",
    "\n",
    "Esto también significa que invocar un método requiere alguna especificación de los datos a partir de los cuales se invoca el método.\n",
    "\n",
    "Puede parecer desconcertante aquí, pero lo trataremos en profundidad cuando profundicemos en la programación orientada a objetos.\n",
    "\n",
    "En general, una invocación de función típica puede tener este aspecto:\n",
    "\n",
    "result = function(arg)\n",
    "\n",
    "La función toma un argumento, hace algo, y devuelve un resultado.\n",
    "\n",
    "Una invocación de un método típico usualmente se ve así:\n",
    "\n",
    "result = data.method(arg)\n",
    "\n",
    "Nota: el nombre del método está precedido por el nombre de los datos que posee el método. A continuación, se agrega un punto, seguido del nombre del método y un par de paréntesis que encierran los argumentos.\n",
    "\n",
    "El método se comportará como una función, pero puede hacer algo más - puede cambiar el estado interno de los datos a partir de los cuales se ha invocado.\n"
   ]
  },
  {
   "cell_type": "code",
   "execution_count": 21,
   "metadata": {},
   "outputs": [
    {
     "data": {
      "text/plain": [
       "[3, 5, 7, 111]"
      ]
     },
     "execution_count": 21,
     "metadata": {},
     "output_type": "execute_result"
    }
   ],
   "source": [
    "numbers"
   ]
  },
  {
   "cell_type": "code",
   "execution_count": 22,
   "metadata": {},
   "outputs": [
    {
     "data": {
      "text/plain": [
       "4"
      ]
     },
     "execution_count": 22,
     "metadata": {},
     "output_type": "execute_result"
    }
   ],
   "source": [
    "len(numbers)#la funcion de len\n"
   ]
  },
  {
   "cell_type": "markdown",
   "metadata": {},
   "source": [
    "## Agregando elementos a una lista: append() y insert()\n",
    "\n",
    "Un nuevo elemento puede ser añadido al final de la lista existente:\n",
    "\n",
    "```python\n",
    "list.append(value)\n",
    "\n",
    "```\n",
    "\n",
    "Dicha operación se realiza mediante un método llamado append(). Toma el valor de su argumento y lo coloca al final de la lista que posee el método.\n",
    "\n",
    "La longitud de la lista aumenta en uno.\n",
    "\n",
    "El método insert() es un poco más inteligente - puede agregar un nuevo elemento en cualquier lugar de la lista, no solo al final.\n",
    "\n",
    "```python\n",
    "list.insert(location, value)\n",
    "```\n",
    "\n",
    "Toma dos argumentos:\n",
    "\n",
    "- el primero muestra la ubicación requerida del elemento a insertar; nota: todos los elementos existentes que ocupan ubicaciones a la derecha del nuevo elemento (incluido el que está en la posición indicada) se desplazan a la derecha, para hacer espacio para el nuevo elemento;\n",
    "- el segundo es el elemento a insertar.\n",
    "Observa el código en el editor. Ve como usamos los métodos append() e insert(). Presta atención a lo que sucede después de usar insert(): el primer elemento anterior ahora es el segundo, el segundo el tercero, y así sucesivamente."
   ]
  },
  {
   "cell_type": "code",
   "execution_count": 23,
   "metadata": {},
   "outputs": [
    {
     "data": {
      "text/plain": [
       "['Arcafdia', True, 'Agapito', 9, 9.8, 10]"
      ]
     },
     "execution_count": 23,
     "metadata": {},
     "output_type": "execute_result"
    }
   ],
   "source": [
    "lista= ['Arcafdia', True,'Agapito',9,9.8,10]\n",
    "lista"
   ]
  },
  {
   "cell_type": "code",
   "execution_count": 24,
   "metadata": {},
   "outputs": [
    {
     "data": {
      "text/plain": [
       "['Arcafdia', True, 'Agapito', 9, 9.8, 10, 'Monico']"
      ]
     },
     "execution_count": 24,
     "metadata": {},
     "output_type": "execute_result"
    }
   ],
   "source": [
    "lista.append('Monico')\n",
    "lista"
   ]
  },
  {
   "cell_type": "code",
   "execution_count": 25,
   "metadata": {},
   "outputs": [
    {
     "name": "stdout",
     "output_type": "stream",
     "text": [
      "['Arcafdia', True, 'Agapito', 9, 9.8, 10, 'Monico', [1, 2, 3, 4, 5]]\n"
     ]
    }
   ],
   "source": [
    "len(lista)\n",
    "lista.append([1,2,3,4,5])\n",
    "len(lista)\n",
    "print(lista)\n"
   ]
  },
  {
   "cell_type": "code",
   "execution_count": 26,
   "metadata": {},
   "outputs": [
    {
     "data": {
      "text/plain": [
       "[1, 2, 3, 4, 5]"
      ]
     },
     "execution_count": 26,
     "metadata": {},
     "output_type": "execute_result"
    }
   ],
   "source": [
    "lista[-1]"
   ]
  },
  {
   "cell_type": "code",
   "execution_count": 27,
   "metadata": {},
   "outputs": [
    {
     "data": {
      "text/plain": [
       "[1, 2, 3, 4, 5]"
      ]
     },
     "execution_count": 27,
     "metadata": {},
     "output_type": "execute_result"
    }
   ],
   "source": [
    "lista[7]\n"
   ]
  },
  {
   "cell_type": "code",
   "execution_count": 28,
   "metadata": {},
   "outputs": [
    {
     "data": {
      "text/plain": [
       "[1, 2, 3, 4, 5]"
      ]
     },
     "execution_count": 28,
     "metadata": {},
     "output_type": "execute_result"
    }
   ],
   "source": [
    "n = len(lista)-1\n",
    "lista[n]"
   ]
  },
  {
   "cell_type": "code",
   "execution_count": 29,
   "metadata": {},
   "outputs": [
    {
     "data": {
      "text/plain": [
       "['Arcafdia', True, 'Agapito', 9, 9.8, 10, 'Monico', [1, 2, 3, 4, 5]]"
      ]
     },
     "execution_count": 29,
     "metadata": {},
     "output_type": "execute_result"
    }
   ],
   "source": [
    "lista"
   ]
  },
  {
   "cell_type": "code",
   "execution_count": 30,
   "metadata": {},
   "outputs": [
    {
     "data": {
      "text/plain": [
       "3"
      ]
     },
     "execution_count": 30,
     "metadata": {},
     "output_type": "execute_result"
    }
   ],
   "source": [
    "lista[7][2]"
   ]
  },
  {
   "cell_type": "code",
   "execution_count": 31,
   "metadata": {},
   "outputs": [
    {
     "data": {
      "text/plain": [
       "3"
      ]
     },
     "execution_count": 31,
     "metadata": {},
     "output_type": "execute_result"
    }
   ],
   "source": [
    "lista[-1][-3]"
   ]
  },
  {
   "cell_type": "code",
   "execution_count": 33,
   "metadata": {},
   "outputs": [],
   "source": [
    "lista .insert(1,'Israel')"
   ]
  },
  {
   "cell_type": "code",
   "execution_count": 34,
   "metadata": {},
   "outputs": [
    {
     "data": {
      "text/plain": [
       "['Arcafdia', 'Israel', True, 'Agapito', 9, 9.8, 10, 'Monico', [1, 2, 3, 4, 5]]"
      ]
     },
     "execution_count": 34,
     "metadata": {},
     "output_type": "execute_result"
    }
   ],
   "source": [
    "lista"
   ]
  },
  {
   "cell_type": "code",
   "execution_count": 35,
   "metadata": {},
   "outputs": [],
   "source": [
    "lista.insert(6,'Israel')"
   ]
  },
  {
   "cell_type": "code",
   "execution_count": 36,
   "metadata": {},
   "outputs": [
    {
     "data": {
      "text/plain": [
       "['Arcafdia',\n",
       " 'Israel',\n",
       " True,\n",
       " 'Agapito',\n",
       " 9,\n",
       " 9.8,\n",
       " 'Israel',\n",
       " 10,\n",
       " 'Monico',\n",
       " [1, 2, 3, 4, 5]]"
      ]
     },
     "execution_count": 36,
     "metadata": {},
     "output_type": "execute_result"
    }
   ],
   "source": [
    "lista"
   ]
  },
  {
   "cell_type": "code",
   "execution_count": 38,
   "metadata": {},
   "outputs": [
    {
     "name": "stdout",
     "output_type": "stream",
     "text": [
      "[1, 2, 3, 4, 5, 6, 7, 8, 9, 10]\n"
     ]
    }
   ],
   "source": [
    "lista2 = []\n",
    "for i in range(10):\n",
    "    lista2.append(i + 1)\n",
    "print(lista2)"
   ]
  },
  {
   "cell_type": "code",
   "execution_count": 39,
   "metadata": {},
   "outputs": [
    {
     "name": "stdout",
     "output_type": "stream",
     "text": [
      "[10, 9, 8, 7, 6, 5, 4, 3, 2, 1]\n"
     ]
    }
   ],
   "source": [
    "lista2 = []\n",
    "for i in range(10):\n",
    "    lista2.insert(0,i +1)\n",
    "print(lista2)"
   ]
  },
  {
   "cell_type": "markdown",
   "metadata": {},
   "source": [
    "## Haciendo uso de listas "
   ]
  },
  {
   "cell_type": "code",
   "execution_count": 40,
   "metadata": {},
   "outputs": [
    {
     "name": "stdout",
     "output_type": "stream",
     "text": [
      "La lista es:[2, 3]y la suma de valores es:10\n"
     ]
    }
   ],
   "source": [
    "## Sumar los valores que estan contenidos en una lista \n",
    "#1. Solicitar cuentos numeros van hacer ingresados a la lista \n",
    "n =int(input('Introduce el total de valores para la lista:'))\n",
    "#2. Llenar la lista con valores numericos introduciodos por el usuario \n",
    "numeros =[]\n",
    "\n",
    "for i in range(n):\n",
    "    n = int(input(f'Introduce el valor numer{i+1}'))\n",
    "    numeros.append(n)\n",
    "#3.Sumar los datos que estan en la lista \n",
    "suma = 0\n",
    "for i in numeros:\n",
    "    for i in numeros:\n",
    "        suma+=i\n",
    "#4.Imprimir la lista y sus suma \n",
    "print (f'La lista es:{numeros}y la suma de valores es:{suma}')"
   ]
  },
  {
   "cell_type": "code",
   "execution_count": 41,
   "metadata": {},
   "outputs": [],
   "source": [
    "def solicitartamano():\n",
    "    n =int(input('Introduce el total de valores para la lista:'))\n",
    "    return n \n"
   ]
  },
  {
   "cell_type": "code",
   "execution_count": 42,
   "metadata": {},
   "outputs": [],
   "source": [
    "def  llenarvalores(numeros,n):\n",
    "    for i in range(n):\n",
    "        n= int(input(f'Introduce el valor numero'))\n",
    "        numeros.append(n)\n"
   ]
  },
  {
   "cell_type": "code",
   "execution_count": 43,
   "metadata": {},
   "outputs": [],
   "source": [
    "def sumar(numeros):\n",
    "    suma = 0\n",
    "    for i in numero:\n",
    "       suma+=i\n",
    "       return suma\n"
   ]
  },
  {
   "cell_type": "code",
   "execution_count": 47,
   "metadata": {},
   "outputs": [
    {
     "ename": "TypeError",
     "evalue": "llenarvalores() takes 1 positional argument but 2 were given",
     "output_type": "error",
     "traceback": [
      "\u001b[1;31m---------------------------------------------------------------------------\u001b[0m",
      "\u001b[1;31mTypeError\u001b[0m                                 Traceback (most recent call last)",
      "Cell \u001b[1;32mIn[47], line 3\u001b[0m\n\u001b[0;32m      1\u001b[0m n\u001b[38;5;241m=\u001b[39m solicitartamano()\n\u001b[0;32m      2\u001b[0m lista3\u001b[38;5;241m=\u001b[39m[]\n\u001b[1;32m----> 3\u001b[0m \u001b[43mllenarvalores\u001b[49m\u001b[43m(\u001b[49m\u001b[43mlista3\u001b[49m\u001b[43m,\u001b[49m\u001b[43mn\u001b[49m\u001b[43m)\u001b[49m\n\u001b[0;32m      4\u001b[0m suma\u001b[38;5;241m=\u001b[39msumar(lista3)\n\u001b[0;32m      5\u001b[0m imprimir(lista3,suma)\n",
      "\u001b[1;31mTypeError\u001b[0m: llenarvalores() takes 1 positional argument but 2 were given"
     ]
    }
   ],
   "source": [
    "n= solicitartamano()\n",
    "lista3=[]\n",
    "llenarvalores(lista3,n)\n",
    "suma=sumar(lista3)\n",
    "imprimir(lista3,suma)"
   ]
  },
  {
   "cell_type": "code",
   "execution_count": 46,
   "metadata": {},
   "outputs": [],
   "source": [
    "def imprimir(numeros,suma):\n",
    "    print (f'La lista es:{numeros}y la suma de valores es:{suma}')\n",
    "    "
   ]
  }
 ],
 "metadata": {
  "kernelspec": {
   "display_name": "Python 3",
   "language": "python",
   "name": "python3"
  },
  "language_info": {
   "codemirror_mode": {
    "name": "ipython",
    "version": 3
   },
   "file_extension": ".py",
   "mimetype": "text/x-python",
   "name": "python",
   "nbconvert_exporter": "python",
   "pygments_lexer": "ipython3",
   "version": "3.12.3"
  }
 },
 "nbformat": 4,
 "nbformat_minor": 2
}
