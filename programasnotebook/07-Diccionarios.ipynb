{
 "cells": [
  {
   "cell_type": "markdown",
   "metadata": {},
   "source": [
    "# Diccionarios\n",
    "\n",
    "El diccionario es otro tipo de estructura de datos de Python. No es una secuencia (pero puede adaptarse fácilmente a un procesamiento secuencial) y además es mutable.\n",
    "\n",
    "Para explicar lo que es un diccionario en Python, es importante comprender de manera literal lo que es un diccionario."
   ]
  },
  {
   "cell_type": "markdown",
   "metadata": {},
   "source": [
    "## ¿Cómo crear un diccionario?\n",
    "\n",
    "Si deseas asignar algunos pares iniciales a un diccionario, utiliza la siguiente sintaxis:"
   ]
  },
  {
   "cell_type": "code",
   "execution_count": 1,
   "metadata": {},
   "outputs": [
    {
     "name": "stdout",
     "output_type": "stream",
     "text": [
      "{'gato': 'Morris', 'perro': 'Yulay', 'caballo': 'cindy'}\n",
      "{'jefes': 7731234021, 'Susy': 77430234}\n",
      "{}\n"
     ]
    }
   ],
   "source": [
    "diccionario = {\n",
    "               \"gato\": \"Morris\",\n",
    "               \"perro\": \"Yulay\",\n",
    "               \"caballo\": \"cindy\"\n",
    "               }\n",
    "\n",
    "telefonos = {\n",
    "          \"jefes\": 7731234021,\n",
    "          \"Susy\": 77430234,\n",
    "        \n",
    "         }\n",
    "\n",
    "diccionario_vacio = {}\n",
    "\n",
    "print (diccionario)\n",
    "print(telefonos)\n",
    "print(diccionario_vacio)"
   ]
  },
  {
   "cell_type": "markdown",
   "metadata": {},
   "source": [
    "## ¿Cómo utilizar un diccionario?"
   ]
  },
  {
   "cell_type": "code",
   "execution_count": 2,
   "metadata": {},
   "outputs": [
    {
     "name": "stdout",
     "output_type": "stream",
     "text": [
      "Morris\n",
      "77430234\n"
     ]
    }
   ],
   "source": [
    "print(diccionario[\"gato\"])\n",
    "print(telefonos[\"Susy\"])"
   ]
  }
 ],
 "metadata": {
  "kernelspec": {
   "display_name": "Python 3",
   "language": "python",
   "name": "python3"
  },
  "language_info": {
   "codemirror_mode": {
    "name": "ipython",
    "version": 3
   },
   "file_extension": ".py",
   "mimetype": "text/x-python",
   "name": "python",
   "nbconvert_exporter": "python",
   "pygments_lexer": "ipython3",
   "version": "3.12.3"
  }
 },
 "nbformat": 4,
 "nbformat_minor": 2
}
